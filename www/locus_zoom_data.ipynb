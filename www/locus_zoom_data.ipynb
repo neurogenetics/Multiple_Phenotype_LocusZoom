{
 "cells": [
  {
   "cell_type": "markdown",
   "metadata": {},
   "source": [
    "# Convert Summary Statistics to Json for Interactive Locus Zoom Tool\n",
    "- **Author(s)** - Frank Grenn\n",
    "- **Date Started** - December 2020\n",
    "- **Quick Description:** subsets data from a summary statistics file and converts to json for interactive locus zoom. "
   ]
  },
  {
   "cell_type": "markdown",
   "metadata": {},
   "source": [
    "## (1) Setup"
   ]
  },
  {
   "cell_type": "code",
   "execution_count": 4,
   "metadata": {},
   "outputs": [],
   "source": [
    "library(rjson)\n",
    "library(data.table)"
   ]
  },
  {
   "cell_type": "code",
   "execution_count": 15,
   "metadata": {},
   "outputs": [],
   "source": [
    "#names of columns in summary stats file\n",
    "chr_name <- \"CHR\"\n",
    "position_name <- \"BP\"\n",
    "pvalue_name <- \"LOG_P\"\n",
    "ref_name <- \"REF\"\n",
    "variant_name <- \"RSID\"\n",
    "\n",
    "#is the p value column already -log10?\n",
    "p_is_log <- TRUE\n"
   ]
  },
  {
   "cell_type": "code",
   "execution_count": 16,
   "metadata": {},
   "outputs": [],
   "source": [
    "#output file prefix\n",
    "out_prefix <-\"/path/to/ms_sumstats\"\n"
   ]
  },
  {
   "cell_type": "code",
   "execution_count": 17,
   "metadata": {},
   "outputs": [],
   "source": [
    "#summary stats file\n",
    "data <- as.data.frame(fread(\"/path/to/discovery_metav3.0.meta\"))"
   ]
  },
  {
   "cell_type": "code",
   "execution_count": 18,
   "metadata": {},
   "outputs": [
    {
     "data": {
      "text/html": [
       "<table>\n",
       "<caption>A data.frame: 6 × 2</caption>\n",
       "<thead>\n",
       "\t<tr><th></th><th scope=col>chr</th><th scope=col>bp</th></tr>\n",
       "\t<tr><th></th><th scope=col>&lt;dbl&gt;</th><th scope=col>&lt;dbl&gt;</th></tr>\n",
       "</thead>\n",
       "<tbody>\n",
       "\t<tr><th scope=row>1</th><td> 1</td><td>154983036</td></tr>\n",
       "\t<tr><th scope=row>2</th><td> 3</td><td> 18798848</td></tr>\n",
       "\t<tr><th scope=row>3</th><td> 3</td><td>121765368</td></tr>\n",
       "\t<tr><th scope=row>4</th><td> 5</td><td>133891282</td></tr>\n",
       "\t<tr><th scope=row>5</th><td>12</td><td>123604053</td></tr>\n",
       "\t<tr><th scope=row>6</th><td>14</td><td> 88523488</td></tr>\n",
       "</tbody>\n",
       "</table>\n"
      ],
      "text/latex": [
       "A data.frame: 6 × 2\n",
       "\\begin{tabular}{r|ll}\n",
       "  & chr & bp\\\\\n",
       "  & <dbl> & <dbl>\\\\\n",
       "\\hline\n",
       "\t1 &  1 & 154983036\\\\\n",
       "\t2 &  3 &  18798848\\\\\n",
       "\t3 &  3 & 121765368\\\\\n",
       "\t4 &  5 & 133891282\\\\\n",
       "\t5 & 12 & 123604053\\\\\n",
       "\t6 & 14 &  88523488\\\\\n",
       "\\end{tabular}\n"
      ],
      "text/markdown": [
       "\n",
       "A data.frame: 6 × 2\n",
       "\n",
       "| <!--/--> | chr &lt;dbl&gt; | bp &lt;dbl&gt; |\n",
       "|---|---|---|\n",
       "| 1 |  1 | 154983036 |\n",
       "| 2 |  3 |  18798848 |\n",
       "| 3 |  3 | 121765368 |\n",
       "| 4 |  5 | 133891282 |\n",
       "| 5 | 12 | 123604053 |\n",
       "| 6 | 14 |  88523488 |\n",
       "\n"
      ],
      "text/plain": [
       "  chr bp       \n",
       "1  1  154983036\n",
       "2  3   18798848\n",
       "3  3  121765368\n",
       "4  5  133891282\n",
       "5 12  123604053\n",
       "6 14   88523488"
      ]
     },
     "metadata": {},
     "output_type": "display_data"
    }
   ],
   "source": [
    "#how many bps to go up and downstream of each region\n",
    "bprange <- 1000000\n",
    "\n",
    "\n",
    "#regions to take from the summary stats\n",
    "regions <- data.frame(chr=c(1,3,3,5,12,14,17,17),bp=c(154983036,18798848,121765368,133891282,123604053,88523488,40529835,43407670))\n",
    "head(regions)"
   ]
  },
  {
   "cell_type": "markdown",
   "metadata": {},
   "source": [
    "## (2) Format Summary Statistics"
   ]
  },
  {
   "cell_type": "code",
   "execution_count": 19,
   "metadata": {},
   "outputs": [
    {
     "name": "stdout",
     "output_type": "stream",
     "text": [
      "[1] 7818616      13\n",
      "[1] 7805651       5\n"
     ]
    }
   ],
   "source": [
    "#remove any rows with a NA\n",
    "complete <- data[complete.cases(data),]\n",
    "\n",
    "#log calculations if needed\n",
    "if(!p_is_log)\n",
    "{\n",
    "  complete$\"log_pvalue\" <- -1 * log10(complete[,names(complete)==pvalue_name])\n",
    "} else {\n",
    "  names(complete)[names(complete) == pvalue_name] <- \"log_pvalue\"\n",
    "}\n",
    "\n",
    "#rename columns\n",
    "names(complete)[names(complete) == chr_name] <- \"chromosome\"\n",
    "names(complete)[names(complete) == position_name] <- \"position\"\n",
    "names(complete)[names(complete) == ref_name] <- \"ref_allele\"\n",
    "names(complete)[names(complete) == variant_name] <- \"variant\"\n",
    "\n",
    "#chromosomes to strings\n",
    "complete$chromosome <- as.character(complete$chromosome)\n",
    "\n",
    "#final df to use for json\n",
    "df <- complete[order(complete$chromosome,complete$position),c(\"chromosome\",\"log_pvalue\",\"position\",\"ref_allele\",\"variant\")]\n",
    "print(dim(data))\n",
    "print(dim(df))"
   ]
  },
  {
   "cell_type": "markdown",
   "metadata": {},
   "source": [
    "## (3) Get region sum stats and save as json for locuszoom\n",
    "####   (a) all regions to one file\n",
    "####   or\n",
    "####   (b) all regions to separate files"
   ]
  },
  {
   "cell_type": "markdown",
   "metadata": {},
   "source": [
    "## (a) All Regions to One File"
   ]
  },
  {
   "cell_type": "code",
   "execution_count": 20,
   "metadata": {},
   "outputs": [],
   "source": [
    "sub_df <- data.frame()\n"
   ]
  },
  {
   "cell_type": "code",
   "execution_count": 21,
   "metadata": {},
   "outputs": [
    {
     "name": "stdout",
     "output_type": "stream",
     "text": [
      "  chr        bp\n",
      "1   1 154983036\n",
      "[1] 3320    5\n",
      "[1] \"new:\"\n",
      "[1] 3320    5\n",
      "  chr       bp\n",
      "2   3 18798848\n",
      "[1] 4335    5\n",
      "[1] \"new:\"\n",
      "[1] 7655    5\n",
      "  chr        bp\n",
      "3   3 121765368\n",
      "[1] 5500    5\n",
      "[1] \"new:\"\n",
      "[1] 13155     5\n",
      "  chr        bp\n",
      "4   5 133891282\n",
      "[1] 4696    5\n",
      "[1] \"new:\"\n",
      "[1] 17851     5\n",
      "  chr        bp\n",
      "5  12 123604053\n",
      "[1] 4632    5\n",
      "[1] \"new:\"\n",
      "[1] 22483     5\n",
      "  chr       bp\n",
      "6  14 88523488\n",
      "[1] 5832    5\n",
      "[1] \"new:\"\n",
      "[1] 28315     5\n",
      "  chr       bp\n",
      "7  17 40529835\n",
      "[1] 3984    5\n",
      "[1] \"new:\"\n",
      "[1] 32299     5\n",
      "  chr       bp\n",
      "8  17 43407670\n",
      "[1] 3000    5\n",
      "[1] \"new:\"\n",
      "[1] 35299     5\n"
     ]
    }
   ],
   "source": [
    "for (r in 1:nrow(regions))\n",
    "{\n",
    "    row <- regions[r,]\n",
    "    print(row)\n",
    "    region_df <- df[(df$chromosome==as.character(row$chr) & df$position < row$bp +bprange & df$position > row$bp -bprange),]\n",
    "    print(dim(region_df))\n",
    "    sub_df <- rbind(sub_df,region_df)\n",
    "\n",
    "    print(\"new:\")\n",
    "    print(dim(sub_df))\n",
    "\n",
    "}"
   ]
  },
  {
   "cell_type": "code",
   "execution_count": 22,
   "metadata": {},
   "outputs": [],
   "source": [
    "convert_list <- list(data = sub_df)\n",
    "\n",
    "\n",
    "json <- toJSON(convert_list)\n",
    "writeLines(json, file(paste0(out_prefix,\".json\")))"
   ]
  },
  {
   "cell_type": "markdown",
   "metadata": {},
   "source": [
    "## (b) All Regions to Separate Files"
   ]
  },
  {
   "cell_type": "code",
   "execution_count": 23,
   "metadata": {},
   "outputs": [
    {
     "name": "stdout",
     "output_type": "stream",
     "text": [
      "  chr        bp\n",
      "1   1 154983036\n",
      "[1] 3320    5\n",
      "  chr       bp\n",
      "2   3 18798848\n",
      "[1] 4335    5\n",
      "  chr        bp\n",
      "3   3 121765368\n",
      "[1] 5500    5\n",
      "  chr        bp\n",
      "4   5 133891282\n",
      "[1] 4696    5\n",
      "  chr        bp\n",
      "5  12 123604053\n",
      "[1] 4632    5\n",
      "  chr       bp\n",
      "6  14 88523488\n",
      "[1] 5832    5\n",
      "  chr       bp\n",
      "7  17 40529835\n",
      "[1] 3984    5\n",
      "  chr       bp\n",
      "8  17 43407670\n",
      "[1] 3000    5\n"
     ]
    }
   ],
   "source": [
    "for (r in 1:nrow(regions))\n",
    "{\n",
    "    row <- regions[r,]\n",
    "    print(row)\n",
    "    region_df <- df[(df$chromosome==as.character(row$chr) & df$position < row$bp +bprange & df$position > row$bp -bprange),]\n",
    "    print(dim(region_df))\n",
    "\n",
    "    \n",
    "    convert_list <- list(data = region_df)\n",
    "\n",
    "\n",
    "    json <- toJSON(convert_list)\n",
    "    new_out_prefix <- paste0(out_prefix,\"_chr\",row$chr,\"_\",row$bp -bprange,\"_\",row$bp+bprange)\n",
    "    \n",
    "    writeLines(json, file(paste0(new_out_prefix,\".json\")))\n",
    "\n",
    "}"
   ]
  }
 ],
 "metadata": {
  "kernelspec": {
   "display_name": "R/3.6",
   "language": "R",
   "name": "ir36"
  },
  "language_info": {
   "codemirror_mode": "r",
   "file_extension": ".r",
   "mimetype": "text/x-r-source",
   "name": "R",
   "pygments_lexer": "r",
   "version": "3.6.3"
  }
 },
 "nbformat": 4,
 "nbformat_minor": 4
}
